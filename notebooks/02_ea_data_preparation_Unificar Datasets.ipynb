{
 "cells": [
  {
   "cell_type": "code",
   "execution_count": 1,
   "id": "add2d30a",
   "metadata": {},
   "outputs": [],
   "source": [
    "import pandas as pd\n",
    "import dtale as dtale\n",
    "from ydata_profiling import ProfileReport  \n",
    "import warnings\n",
    "warnings.filterwarnings('ignore')"
   ]
  },
  {
   "cell_type": "code",
   "execution_count": 3,
   "id": "ff922cf3",
   "metadata": {},
   "outputs": [],
   "source": [
    "#lendo base Suite of Food Security Indicators - Edgar\n",
    "df_food = pd.read_csv('../data/transformed/SFSI_pivot.csv', sep=',', encoding='ISO-8859-1',low_memory=False)\n",
    "#lendo base Custo - Emerson\n",
    "df_custo = pd.read_csv('../data/transformed/CoAHD-Emerson.csv', sep=',', encoding='ISO-8859-1',low_memory=False)\n",
    "#lendo base HDI - Emerson\n",
    "df_hdi = pd.read_csv('../data/transformed/HDI-Emerson.csv', sep=',', encoding='ISO-8859-1',low_memory=False)\n",
    "#lendo base SDG - Jailson\n",
    "df_sdg = pd.read_csv('../data/transformed/SDBG-Jailson.csv', sep=',', encoding='ISO-8859-1',low_memory=False)"
   ]
  },
  {
   "cell_type": "code",
   "execution_count": 4,
   "id": "b846bcfb",
   "metadata": {},
   "outputs": [],
   "source": [
    "#unindo tudo\n",
    "#Base de custo e HDI\n",
    "df_tabelao = pd.merge(df_custo , df_hdi, on=['Area Code', 'Area', 'Year'], how='outer')\n",
    "#tabelao + sdg Jailson\n",
    "df_tabelao = pd.merge(df_tabelao, df_sdg, on=['Area Code', 'Area', 'Year'], how='outer')\n",
    "#tabelao + food Edgar\n",
    "df_tabelao = pd.merge(df_tabelao, df_food, on=['Area Code', 'Area', 'Year'], how='outer')"
   ]
  },
  {
   "cell_type": "code",
   "execution_count": 5,
   "id": "ba242fc5",
   "metadata": {},
   "outputs": [
    {
     "data": {
      "text/html": [
       "\n",
       "        <iframe\n",
       "            width=\"100%\"\n",
       "            height=\"475\"\n",
       "            src=\"http://Edgar2024:40000/dtale/iframe/1\"\n",
       "            frameborder=\"0\"\n",
       "            allowfullscreen\n",
       "            \n",
       "        ></iframe>\n",
       "        "
      ],
      "text/plain": [
       "<IPython.lib.display.IFrame at 0x7f0245dbc850>"
      ]
     },
     "metadata": {},
     "output_type": "display_data"
    },
    {
     "data": {
      "text/plain": []
     },
     "execution_count": 5,
     "metadata": {},
     "output_type": "execute_result"
    }
   ],
   "source": [
    "dtale.show(df_tabelao)"
   ]
  },
  {
   "cell_type": "code",
   "execution_count": 6,
   "id": "82abfe1b",
   "metadata": {},
   "outputs": [],
   "source": [
    "# Salvando em CSV\n",
    "df_tabelao.to_csv('../data/processed/Tabela_unificada.csv', index=False)\n",
    "# Salvando em Excel\n",
    "df_tabelao.to_excel('../data/processed/Tabela_unificada.xlsx', index=False)"
   ]
  }
 ],
 "metadata": {
  "kernelspec": {
   "display_name": "Python 3 (ipykernel)",
   "language": "python",
   "name": "python3"
  },
  "language_info": {
   "codemirror_mode": {
    "name": "ipython",
    "version": 3
   },
   "file_extension": ".py",
   "mimetype": "text/x-python",
   "name": "python",
   "nbconvert_exporter": "python",
   "pygments_lexer": "ipython3",
   "version": "3.10.12"
  }
 },
 "nbformat": 4,
 "nbformat_minor": 5
}
