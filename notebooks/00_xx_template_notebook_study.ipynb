{
 "cells": [
  {
   "cell_type": "markdown",
   "id": "9336a723-32b4-4c60-9c70-8038f2513e92",
   "metadata": {
    "tags": []
   },
   "source": [
    "# 1 Introduction"
   ]
  },
  {
   "cell_type": "markdown",
   "id": "d8711700-95cf-43c6-b0c9-807a4019eb98",
   "metadata": {
    "tags": []
   },
   "source": [
    "> What's this notebook all about?"
   ]
  },
  {
   "cell_type": "markdown",
   "id": "d89ce6df-3f5d-482d-9a98-54b05aa06095",
   "metadata": {},
   "source": [
    "## 1.1 Business needs"
   ]
  },
  {
   "cell_type": "markdown",
   "id": "5f727721-530c-4a6f-9270-8718284412a9",
   "metadata": {},
   "source": [
    "> Which business needs have arisen that demanded this notebooks creation?"
   ]
  },
  {
   "cell_type": "markdown",
   "id": "5d2329ef-afc0-4001-a4d3-5ac1c9bd416d",
   "metadata": {},
   "source": [
    "## 1.2 Dependencies"
   ]
  },
  {
   "cell_type": "markdown",
   "id": "a4d1c44c-3bad-4231-a087-31da55b79eab",
   "metadata": {},
   "source": [
    "> What dependencies does the reader need to download in order to run the whole notebook? Write the pip or conda command to allow easy access to those. Be sure to include the specific versions if needed be."
   ]
  },
  {
   "cell_type": "markdown",
   "id": "9baae34d-1cf5-4f46-92d5-c0da21328c3d",
   "metadata": {},
   "source": [
    "## 1.3 Imports"
   ]
  },
  {
   "cell_type": "markdown",
   "id": "d282c20d-72ba-40b5-bb66-4bc019a9eebe",
   "metadata": {},
   "source": [
    "> Import all libraries needed. Include the latest versions used to allow reproducibility."
   ]
  },
  {
   "cell_type": "markdown",
   "id": "e9f8042d-b8df-4c34-8468-d342a4c4d3bc",
   "metadata": {
    "tags": []
   },
   "source": [
    "## 1.4 Global variables"
   ]
  },
  {
   "cell_type": "markdown",
   "id": "edf3e476-e4b8-4a50-a3e1-aa10c03f5911",
   "metadata": {},
   "source": [
    "> Declare all variables that will retain a constant value throught the notebook. For exemple, the path to the input data should be a global variable."
   ]
  },
  {
   "cell_type": "markdown",
   "id": "6fc4c380-c404-4ea2-8151-5edf66dd6d62",
   "metadata": {},
   "source": [
    "# 2 Exploratory data analysis"
   ]
  },
  {
   "cell_type": "markdown",
   "id": "84b79539-f8f7-4bc4-83e7-801f7ebdfa09",
   "metadata": {},
   "source": [
    "> Write a brief summary about which analysis and wrangling was performed."
   ]
  },
  {
   "cell_type": "markdown",
   "id": "775c5cc0-5eb1-4be9-8972-f52bc7b5c473",
   "metadata": {},
   "source": [
    "## 2.1 Data reading"
   ]
  },
  {
   "cell_type": "markdown",
   "id": "24dc51f5-de5e-4b44-9b82-b452f42dbbe3",
   "metadata": {},
   "source": [
    "> Give a brief introduction to the data used and their sources."
   ]
  },
  {
   "cell_type": "markdown",
   "id": "f9e217af-1fbb-4db6-b681-416c5abe3043",
   "metadata": {},
   "source": [
    "## 2.2 Data wrangling"
   ]
  },
  {
   "cell_type": "markdown",
   "id": "4b5bde9d-f481-4455-a997-0de23c28c113",
   "metadata": {},
   "source": [
    "> Guide the reader about which data wranglings were needed and why"
   ]
  },
  {
   "cell_type": "markdown",
   "id": "970d2f78-6524-488f-ac4e-bdd1c6f0779d",
   "metadata": {},
   "source": [
    "# 3 Data modeling"
   ]
  },
  {
   "cell_type": "markdown",
   "id": "e9cf75c5-69b1-412a-a909-e6745a7ce576",
   "metadata": {},
   "source": [
    "> Give a brief introduction about the model. If you feel it would help, explain the math behind it."
   ]
  },
  {
   "cell_type": "markdown",
   "id": "612f3a6f-4d12-4c79-b4d3-79503a150dd3",
   "metadata": {},
   "source": [
    "## 3.1 Identifying key variables"
   ]
  },
  {
   "cell_type": "markdown",
   "id": "beec903c-b08f-4e4d-b4c0-8eb67a02b090",
   "metadata": {},
   "source": [
    "> Guide the reader around the thought proccess about which variables were considered key to the model."
   ]
  },
  {
   "cell_type": "markdown",
   "id": "98356cbb-1291-476f-8c1f-e8789b60cef5",
   "metadata": {},
   "source": [
    "## 3.2 Building the model"
   ]
  },
  {
   "cell_type": "markdown",
   "id": "92490212-200e-4d1d-b959-c81f5c14fd9d",
   "metadata": {},
   "source": [
    "> Guide the reader throughout the implementation and the decision of using the chosen model."
   ]
  },
  {
   "cell_type": "markdown",
   "id": "5ee111b8-bfb2-461b-9f3b-9eac6db40e5f",
   "metadata": {},
   "source": [
    "## 3.3 Extracting insights"
   ]
  },
  {
   "cell_type": "markdown",
   "id": "8288be5b-c092-4a29-b243-1383a8bf65fa",
   "metadata": {},
   "source": [
    "> Be very thorough about which insights can be concluded from the data and how."
   ]
  },
  {
   "cell_type": "markdown",
   "id": "419f044d-b07b-473f-ae51-6431f422032e",
   "metadata": {},
   "source": [
    "# 4 Conclusion"
   ]
  },
  {
   "cell_type": "markdown",
   "id": "6d166905-dedd-4dd5-b2b8-04299d12ff4c",
   "metadata": {},
   "source": [
    "> Summarize the insights previously found."
   ]
  },
  {
   "cell_type": "markdown",
   "id": "6109ee00-2d25-46fe-9f09-38a93ef40bac",
   "metadata": {},
   "source": [
    "## 4.1 Discussion"
   ]
  },
  {
   "cell_type": "markdown",
   "id": "a5966469-6dcc-490a-9234-d5d766cf466c",
   "metadata": {},
   "source": [
    "> What makes those insights relevant and how do they relate to the initial business needs?"
   ]
  },
  {
   "cell_type": "markdown",
   "id": "56f778d8-6be0-4eef-82a4-aafec664bb67",
   "metadata": {},
   "source": [
    "## 4.2 Next steps"
   ]
  },
  {
   "cell_type": "markdown",
   "id": "b9a3f7f4-66b6-4d16-a36a-edc6c2981945",
   "metadata": {},
   "source": [
    "> If it makes sense, talk about the next logical steps that should follow the conclusion."
   ]
  }
 ],
 "metadata": {
  "kernelspec": {
   "display_name": "Python 3",
   "language": "python",
   "name": "python3"
  },
  "language_info": {
   "codemirror_mode": {
    "name": "ipython",
    "version": 3
   },
   "file_extension": ".py",
   "mimetype": "text/x-python",
   "name": "python",
   "nbconvert_exporter": "python",
   "pygments_lexer": "ipython3",
   "version": "3.6.9"
  }
 },
 "nbformat": 4,
 "nbformat_minor": 5
}
